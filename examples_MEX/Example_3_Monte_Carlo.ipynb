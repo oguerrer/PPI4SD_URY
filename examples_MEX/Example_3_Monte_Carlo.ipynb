{
 "cells": [
  {
   "cell_type": "markdown",
   "metadata": {},
   "source": [
    "# Example 3: Running Monte Carlo Simulations\n",
    "\n",
    "This example shows how to run multiple simulations in a Monte Carlo fashion. This is important in order to estimate average policy priorities such as the ones presented in the project reports."
   ]
  },
  {
   "cell_type": "markdown",
   "metadata": {},
   "source": [
    "## Import the necessary libraries"
   ]
  },
  {
   "cell_type": "code",
   "execution_count": 19,
   "metadata": {},
   "outputs": [],
   "source": [
    "import warnings\n",
    "warnings.filterwarnings('ignore')\n",
    "from matplotlib import pyplot as plt\n",
    "import pandas as pd\n",
    "import numpy as np\n",
    "import ppi"
   ]
  },
  {
   "cell_type": "markdown",
   "metadata": {},
   "source": [
    "## Load data"
   ]
  },
  {
   "cell_type": "code",
   "execution_count": 20,
   "metadata": {},
   "outputs": [],
   "source": [
    "data = pd.read_csv('final_sample_normalized.csv', sep='\\t', header=0, low_memory=False, encoding='utf-16') # indicators\n",
    "alphas = np.loadtxt('alphas.csv') # growth factors\n",
    "A = np.loadtxt('network.csv') # network\n",
    "phi, tau = np.loadtxt('governance_params.csv') # governance parameters"
   ]
  },
  {
   "cell_type": "markdown",
   "metadata": {},
   "source": [
    "## Prepare data for PPI"
   ]
  },
  {
   "cell_type": "code",
   "execution_count": 21,
   "metadata": {},
   "outputs": [],
   "source": [
    "series = data[[str(year) for year in range(2006, 2017)]].values # extract the time series from the data\n",
    "I0, T = ppi.get_targets(series) # use the helper function get_targets() to transform the final values into targets\n",
    "R = data['instrumental'].values # extract the variable indicating which indicators are instrumental\n",
    "r = np.where(R==1)[0] # get the index of the instrumental indicators\n",
    "colors = dict(zip(data.index, data.goalColor)) # build a dictionary mapping each indicator to its SDG color"
   ]
  },
  {
   "cell_type": "markdown",
   "metadata": {},
   "source": [
    "## Run PPI 1,000 times"
   ]
  },
  {
   "cell_type": "code",
   "execution_count": 22,
   "metadata": {},
   "outputs": [],
   "source": [
    "Ps = np.ones((1000, sum(R))) # for storing the policy priotiries\n",
    "for i in range(1000):\n",
    "    outputs = ppi.run_ppi(I0, T, A=A, alpha=alphas, R=R, phi=phi, tau=tau) # run PPI one time\n",
    "    tsI, tsC, tsF, tsP, tsD, tsS, times, H = outputs # store the outpurs in separate objects\n",
    "    Ps[i,:] = tsP.mean(axis=1) # compute inter-temporal averages and store them"
   ]
  },
  {
   "cell_type": "markdown",
   "metadata": {},
   "source": [
    "## Make bar charts of policy priorities at the level of indicators and SDGs\n",
    "\n",
    "Note how the bar charts below match the ones reported in Figure 9 of the national-level report. The more simulations performed, the better the match between the report and this example."
   ]
  },
  {
   "cell_type": "code",
   "execution_count": 26,
   "metadata": {},
   "outputs": [
    {
     "data": {
      "image/png": "[encoded data removed]",
      "text/plain": [
       "<Figure size 1008x216 with 2 Axes>"
      ]
     },
     "metadata": {},
     "output_type": "display_data"
    }
   ],
   "source": [
    "ps = Ps.mean(axis=0)\n",
    "fig = plt.figure(figsize=(14,3))\n",
    "plt.subplot(1,2,1)\n",
    "for i in range(sum(R)):\n",
    "    plt.bar(i, ps[i], color=colors[r[i]])\n",
    "plt.xticks([])\n",
    "plt.ylim(.006, .0178)\n",
    "plt.xlabel('indicator', fontsize=14)\n",
    "plt.ylabel('policy priority', fontsize=14)\n",
    "\n",
    "plt.subplot(1,2,2)\n",
    "sdgs = data.goal.values\n",
    "sdg = '1'\n",
    "sdg_ps = [[]]\n",
    "sdg_color = [colors[0]]\n",
    "for i in range(sum(R)):\n",
    "    if sdgs[r[i]] == sdg:\n",
    "        sdg_ps[-1].append(ps[i])\n",
    "    else:\n",
    "        sdg_ps.append([ps[i]])\n",
    "        sdg = sdgs[r[i]]\n",
    "        sdg_color.append(colors[r[i]])\n",
    "for i, bar in enumerate(sdg_ps):\n",
    "    plt.bar(i, np.mean(bar), color=sdg_color[i])\n",
    "plt.xticks([])\n",
    "plt.ylim(.0087, .0145)\n",
    "plt.xlabel('SDG', fontsize=14)\n",
    "plt.ylabel('average policy priority', fontsize=14)\n",
    "\n",
    "plt.tight_layout()\n",
    "plt.show()"
   ]
  },
  {
   "cell_type": "markdown",
   "metadata": {},
   "source": [
    "## Plot simulation histograms of most and least prioritized indicators"
   ]
  },
  {
   "cell_type": "code",
   "execution_count": 24,
   "metadata": {},
   "outputs": [
    {
     "data": {
      "image/png": "[encoded data removed]",
      "text/plain": [
       "<Figure size 360x216 with 1 Axes>"
      ]
     },
     "metadata": {},
     "output_type": "display_data"
    }
   ],
   "source": [
    "ind_max = np.argmax(ps) # find most prioritized indicator\n",
    "ind_min = np.argmin(ps) # find least prioritized indicator\n",
    "names = data['seriesName']\n",
    "\n",
    "fig = plt.figure(figsize=(5,3))\n",
    "ax = fig.add_subplot(1,1,1)\n",
    "plt.hist(np.log(Ps[:,ind_max]), alpha=.9, color=colors[r[ind_max]])\n",
    "plt.hist(np.log(Ps[:,ind_min]), alpha = .9, color=colors[r[ind_min]])\n",
    "plt.xlabel('average policy priority (log)')\n",
    "plt.ylabel('frequency')\n",
    "ax.legend([names[r[ind_max]], names[r[ind_min]]],\n",
    "         loc='upper center', bbox_to_anchor=(0.5, -0.2))\n",
    "plt.show()"
   ]
  },
  {
   "cell_type": "code",
   "execution_count": null,
   "metadata": {},
   "outputs": [],
   "source": []
  }
 ],
 "metadata": {
  "kernelspec": {
   "display_name": "Python 3",
   "language": "python",
   "name": "python3"
  },
  "language_info": {
   "codemirror_mode": {
    "name": "ipython",
    "version": 3
   },
   "file_extension": ".py",
   "mimetype": "text/x-python",
   "name": "python",
   "nbconvert_exporter": "python",
   "pygments_lexer": "ipython3",
   "version": "3.6.6"
  }
 },
 "nbformat": 4,
 "nbformat_minor": 2
}
