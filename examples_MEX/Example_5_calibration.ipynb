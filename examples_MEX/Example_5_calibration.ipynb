{
 "cells": [
  {
   "cell_type": "markdown",
   "metadata": {},
   "source": [
    "# Example 5: Calibration of the Number of Periods for Convergence\n",
    "\n",
    "The estimation of the growth factors assumes a given number of periods under which the model should converge. This variable is called 'steps'. This example shows how to choose an optimal 'steps', such that the volatility of the simulated indicators matches the empirical ones."
   ]
  },
  {
   "cell_type": "markdown",
   "metadata": {},
   "source": [
    "## Import the necessary libraries"
   ]
  },
  {
   "cell_type": "code",
   "execution_count": 1,
   "metadata": {},
   "outputs": [],
   "source": [
    "import warnings\n",
    "warnings.filterwarnings('ignore')\n",
    "from matplotlib import pyplot as plt\n",
    "import pandas as pd\n",
    "import numpy as np\n",
    "import scipy.stats as st\n",
    "import ppi\n",
    "import calibration as cal"
   ]
  },
  {
   "cell_type": "markdown",
   "metadata": {},
   "source": [
    "## Load data"
   ]
  },
  {
   "cell_type": "code",
   "execution_count": 2,
   "metadata": {},
   "outputs": [],
   "source": [
    "data = pd.read_csv('final_sample_normalized.csv', sep='\\t', header=0, low_memory=False, encoding='utf-16') # indicators\n",
    "A = np.loadtxt('network.csv') # network\n",
    "phi, tau = np.loadtxt('governance_params.csv') # governance parameters"
   ]
  },
  {
   "cell_type": "markdown",
   "metadata": {},
   "source": [
    "## Prepare data for PPI"
   ]
  },
  {
   "cell_type": "code",
   "execution_count": 3,
   "metadata": {},
   "outputs": [],
   "source": [
    "series = data[[str(year) for year in range(2006, 2017)]].values # extract the time series from the data\n",
    "I0, T = ppi.get_targets(series) # use the helper function get_targets() to transform the final values into targets\n",
    "R = data['instrumental'].values # extract the variable indicating which indicators are instrumental\n",
    "colors = dict(zip(data.index, data.goalColor)) # build a dictionary mapping each indicator to its SDG color"
   ]
  },
  {
   "cell_type": "markdown",
   "metadata": {},
   "source": [
    "## Calculate empirical volatility"
   ]
  },
  {
   "cell_type": "code",
   "execution_count": 4,
   "metadata": {},
   "outputs": [],
   "source": [
    "chs_emp = (series[:, 1::]-series[:, 0:-1]).flatten()\n",
    "chs_emp[chs_emp<0] = 0\n",
    "vola_emp = chs_emp.std()    "
   ]
  },
  {
   "cell_type": "markdown",
   "metadata": {},
   "source": [
    "## Estimate growth factors for different levels of 'steps'\n",
    "\n",
    "The function 'find_steps' from the 'calibration.py' script tries different values for 'steps' until it finds one that matches the empirical volatility of the development indicators. The user shuold provide the initial level of 'steps' and, then, the function estimates the corresponding growth factors and the simulated volatility. If the synthetic volatility is larger than the empirical one, then the function increases 'steps' by one and repeats the procedure. This process continues until the function has fuond a 'steps' that yields a lower volatility than the empirical one.\n",
    "\n",
    "Similar to the previous example, this illustration assumes large error thresholds and few Monte Carlo simulations in order to reduce the computational time."
   ]
  },
  {
   "cell_type": "code",
   "execution_count": 9,
   "metadata": {},
   "outputs": [
    {
     "name": "stdout",
     "output_type": "stream",
     "text": [
      "Number of ticks to convergence: 20\n",
      "Running iteration 1 ...\n",
      "Obtained a mean average convergence time error of 4.280141843971631\n",
      "Difference in volatility: 0.008820555421557078\n",
      "Number of ticks to convergence: 21\n",
      "Running iteration 1 ...\n",
      "Obtained a mean average convergence time error of 4.301418439716312\n",
      "Difference in volatility: 0.006719918183781169\n",
      "Number of ticks to convergence: 22\n",
      "Running iteration 1 ...\n",
      "Obtained a mean average convergence time error of 4.049645390070922\n",
      "Difference in volatility: 0.006642934238203772\n",
      "Number of ticks to convergence: 23\n",
      "Running iteration 1 ...\n",
      "Obtained a mean average convergence time error of 3.8439716312056738\n",
      "Difference in volatility: 0.00574248198380661\n",
      "Number of ticks to convergence: 24\n",
      "Running iteration 1 ...\n",
      "Obtained a mean average convergence time error of 4.049645390070922\n",
      "Difference in volatility: 0.0043860131168507975\n",
      "Number of ticks to convergence: 25\n",
      "Running iteration 1 ...\n",
      "Obtained a mean average convergence time error of 3.868794326241135\n",
      "Difference in volatility: 0.0033862245230417212\n",
      "Number of ticks to convergence: 26\n",
      "Running iteration 1 ...\n",
      "Obtained a mean average convergence time error of 4.656028368794326\n",
      "Difference in volatility: 0.0055915345431841595\n",
      "Number of ticks to convergence: 27\n",
      "Running iteration 1 ...\n",
      "Obtained a mean average convergence time error of 4.5212765957446805\n",
      "Difference in volatility: 0.003158662089746543\n",
      "Number of ticks to convergence: 28\n",
      "Running iteration 1 ...\n",
      "Obtained a mean average convergence time error of 5.24822695035461\n",
      "Running iteration 2 ...\n",
      "Obtained a mean average convergence time error of 4.9361702127659575\n",
      "Difference in volatility: 0.0036810333479316316\n",
      "Number of ticks to convergence: 29\n",
      "Running iteration 1 ...\n",
      "Obtained a mean average convergence time error of 5.273049645390071\n",
      "Running iteration 2 ...\n",
      "Obtained a mean average convergence time error of 5.113475177304965\n",
      "Running iteration 3 ...\n",
      "Obtained a mean average convergence time error of 5.212765957446808\n",
      "Running iteration 4 ...\n",
      "Obtained a mean average convergence time error of 5.1879432624113475\n",
      "Running iteration 5 ...\n",
      "Obtained a mean average convergence time error of 4.98936170212766\n",
      "Difference in volatility: 2.8793918057896245e-05\n",
      "Number of ticks to convergence: 30\n",
      "Running iteration 1 ...\n",
      "Obtained a mean average convergence time error of 6.627659574468085\n",
      "Running iteration 2 ...\n",
      "Obtained a mean average convergence time error of 5.276595744680851\n",
      "Running iteration 3 ...\n",
      "Obtained a mean average convergence time error of 5.124113475177305\n",
      "Running iteration 4 ...\n",
      "Obtained a mean average convergence time error of 5.102836879432624\n",
      "Running iteration 5 ...\n",
      "Obtained a mean average convergence time error of 5.361702127659575\n",
      "Running iteration 6 ...\n",
      "Obtained a mean average convergence time error of 5.723404255319149\n",
      "Running iteration 7 ...\n",
      "Obtained a mean average convergence time error of 5.202127659574468\n",
      "Running iteration 8 ...\n",
      "Obtained a mean average convergence time error of 4.460992907801418\n",
      "Difference in volatility: 0.0012741562529053098\n",
      "Number of ticks to convergence: 31\n",
      "Running iteration 1 ...\n",
      "Obtained a mean average convergence time error of 7.134751773049645\n",
      "Running iteration 2 ...\n",
      "Obtained a mean average convergence time error of 6.439716312056738\n",
      "Running iteration 3 ...\n",
      "Obtained a mean average convergence time error of 6.092198581560283\n",
      "Running iteration 4 ...\n",
      "Obtained a mean average convergence time error of 5.120567375886525\n",
      "Running iteration 5 ...\n",
      "Obtained a mean average convergence time error of 4.787234042553192\n",
      "Difference in volatility: 0.001106345121405703\n",
      "Number of ticks to convergence: 32\n",
      "Running iteration 1 ...\n",
      "Obtained a mean average convergence time error of 7.709219858156028\n",
      "Running iteration 2 ...\n",
      "Obtained a mean average convergence time error of 5.301418439716312\n",
      "Running iteration 3 ...\n",
      "Obtained a mean average convergence time error of 5.070921985815603\n",
      "Running iteration 4 ...\n",
      "Obtained a mean average convergence time error of 5.719858156028369\n",
      "Running iteration 5 ...\n",
      "Obtained a mean average convergence time error of 5.070921985815603\n",
      "Running iteration 6 ...\n",
      "Obtained a mean average convergence time error of 4.634751773049645\n",
      "Difference in volatility: -0.0019012214441773388\n",
      "CPU times: user 6.42 s, sys: 494 ms, total: 6.92 s\n",
      "Wall time: 17min 24s\n"
     ]
    }
   ],
   "source": [
    "%%time\n",
    "# the line above prints the computation time after the estimation has finished\n",
    "steps = 20 # the initial number of periods under which the model should converge\n",
    "sample_size = 2 # the number of Monte Carlo simulations\n",
    "dev_lim = 5 # the convergence error threshold\n",
    "parallel_processes = 4 # the number of processes to be run in parallel\n",
    "\n",
    "rec_alphas, rec_volas, rec_steps = cal.find_steps(I0, T, A=A, R=R, phi=phi, tau=tau, \n",
    "                                       vola_emp=vola_emp, steps=steps, sample_size=sample_size, \n",
    "                                       dev_lim=dev_lim, parallel_processes=parallel_processes)"
   ]
  },
  {
   "cell_type": "markdown",
   "metadata": {},
   "source": [
    "## Plot convergence levels"
   ]
  },
  {
   "cell_type": "code",
   "execution_count": 18,
   "metadata": {},
   "outputs": [
    {
     "data": {
      "image/png": "[encoded data removed]",
      "text/plain": [
       "<Figure size 432x288 with 1 Axes>"
      ]
     },
     "metadata": {},
     "output_type": "display_data"
    }
   ],
   "source": [
    "plt.plot(rec_steps, [vola_emp for step in rec_steps], '--k', linewidth=2)\n",
    "plt.plot(rec_steps, rec_volas, '.k', markersize=15, mec='w',)\n",
    "plt.xlabel('periods for convergence', fontsize=14)\n",
    "plt.ylabel('volatility', fontsize=14)\n",
    "plt.legend(['empirical', 'simulated'], fontsize=12)\n",
    "\n",
    "plt.tight_layout()\n",
    "plt.show()"
   ]
  },
  {
   "cell_type": "markdown",
   "metadata": {},
   "source": [
    "## Choose 'steps' and growth factors\n",
    "\n",
    "Once a collection of 'steps' and growth factors has been obtained, the next step is to choose the ones that match the empirical volatility. Once this the best 'steps' has been chosen, it is recommended that the estimation procedure is repeated for the neighborhood of 'steps', but which a stricter error threshold and more Monte Carlo simulations. This example shows how to choose the best 'steps' and plot its corresponding estimated growth factors. "
   ]
  },
  {
   "cell_type": "code",
   "execution_count": 17,
   "metadata": {},
   "outputs": [
    {
     "data": {
      "image/png": "[encoded data removed]",
      "text/plain": [
       "<Figure size 432x288 with 1 Axes>"
      ]
     },
     "metadata": {},
     "output_type": "display_data"
    },
    {
     "name": "stdout",
     "output_type": "stream",
     "text": [
      "Calibrated 'steps':  29\n"
     ]
    }
   ],
   "source": [
    "alphas_rep = np.loadtxt('alphas.csv') # growth factors\n",
    "\n",
    "arg_min = np.argmin(np.abs(np.array(rec_volas)-vola_emp))\n",
    "best_alphas = rec_alphas[arg_min]\n",
    "best_steps = rec_steps[arg_min]\n",
    "\n",
    "for i in range(len(A)):\n",
    "    plt.plot(alphas_rep[i], alphas[i], '.', mfc=colors[i], mec='white', markersize=14)\n",
    "plt.xticks([])\n",
    "plt.xlabel('growth factor from report', fontsize=14)\n",
    "plt.ylabel('estimated growth factor', fontsize=14)\n",
    "\n",
    "plt.tight_layout()\n",
    "plt.show()\n",
    "print(\"Calibrated 'steps': \", best_steps)"
   ]
  },
  {
   "cell_type": "code",
   "execution_count": null,
   "metadata": {},
   "outputs": [],
   "source": []
  }
 ],
 "metadata": {
  "kernelspec": {
   "display_name": "Python 3",
   "language": "python",
   "name": "python3"
  },
  "language_info": {
   "codemirror_mode": {
    "name": "ipython",
    "version": 3
   },
   "file_extension": ".py",
   "mimetype": "text/x-python",
   "name": "python",
   "nbconvert_exporter": "python",
   "pygments_lexer": "ipython3",
   "version": "3.6.6"
  }
 },
 "nbformat": 4,
 "nbformat_minor": 2
}
